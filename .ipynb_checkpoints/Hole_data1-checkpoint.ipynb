{
 "cells": [
  {
   "cell_type": "code",
   "execution_count": 46,
   "metadata": {},
   "outputs": [],
   "source": [
    "from selenium import webdriver\n",
    "from selenium.webdriver.chrome.options import Options\n",
    "from selenium.webdriver.common.action_chains import ActionChains\n",
    "from selenium.webdriver.support.ui import Select\n",
    "from xlwt import Workbook\n",
    "import time\n",
    "\n",
    "URL = \"http://fe.site777.tv/data/biglobe/login.php\"\n",
    "\n",
    "#URLのページを開く\n",
    "options = Options()\n",
    "options.add_argument('--headless')\n",
    "driver = webdriver.Chrome('.\\chromedriver.exe')\n",
    "driver.get(URL)\n"
   ]
  },
  {
   "cell_type": "code",
   "execution_count": 47,
   "metadata": {},
   "outputs": [],
   "source": [
    "#Windowのサイズを最大化する\n",
    "driver.maximize_window()\n",
    "\n",
    "#BIGLOBEのログイン\n",
    "driver.find_element_by_id(\"BiglobeId\").send_keys(\"siteseven.data@gmail.com\")\n",
    "driver.find_element_by_id(\"BiglobePwd\").send_keys(\"Crawler777\")\n",
    "#なぜか要素をクリックできなかったので要素の場所を指定してクリックした\n",
    "element = driver.find_element_by_xpath(\"/html/body/div[1]/form/div/div/div[1]/input\")\n",
    "loc = element.location\n",
    "x, y = loc['x'], loc['y']\n",
    "actions = ActionChains(driver)\n",
    "actions.move_by_offset(x, y)\n",
    "actions.click()\n",
    "actions.perform()\n",
    "\n",
    "time.sleep(5)"
   ]
  },
  {
   "cell_type": "code",
   "execution_count": 24,
   "metadata": {},
   "outputs": [],
   "source": [
    "#マイページにログインするwindowに移動する\n",
    "driver.find_element_by_xpath(\"/html/body/div[4]/div[1]/p\").click()\n",
    "#ログインIDとPwdの入力\n",
    "driver.find_element_by_id(\"mypage_email\").send_keys(\"siteseven.data@gmail.com\")\n",
    "driver.find_element_by_id(\"mypage_pass\").send_keys(\"Crawler777\")\n",
    "\n",
    "driver.find_element_by_xpath(\"/html/body/div[4]/div[2]/div/div/div/form/div/div[1]/p\").click()\n"
   ]
  },
  {
   "cell_type": "code",
   "execution_count": 48,
   "metadata": {},
   "outputs": [
    {
     "ename": "TypeError",
     "evalue": "click() takes 1 positional argument but 2 were given",
     "output_type": "error",
     "traceback": [
      "\u001b[1;31m---------------------------------------------------------------------------\u001b[0m",
      "\u001b[1;31mTypeError\u001b[0m                                 Traceback (most recent call last)",
      "\u001b[1;32m<ipython-input-48-a4975e9e1ddc>\u001b[0m in \u001b[0;36m<module>\u001b[1;34m\u001b[0m\n\u001b[0;32m     16\u001b[0m \u001b[0marea_number\u001b[0m \u001b[1;33m=\u001b[0m \u001b[1;33m[\u001b[0m\u001b[1;36m1\u001b[0m\u001b[1;33m,\u001b[0m \u001b[1;36m2\u001b[0m\u001b[1;33m,\u001b[0m \u001b[1;36m7\u001b[0m\u001b[1;33m]\u001b[0m\u001b[1;33m\u001b[0m\u001b[1;33m\u001b[0m\u001b[0m\n\u001b[0;32m     17\u001b[0m \u001b[1;32mfor\u001b[0m \u001b[0mi\u001b[0m \u001b[1;32min\u001b[0m \u001b[0marea_number\u001b[0m\u001b[1;33m:\u001b[0m\u001b[1;33m\u001b[0m\u001b[1;33m\u001b[0m\u001b[0m\n\u001b[1;32m---> 18\u001b[1;33m     \u001b[0mdriver\u001b[0m\u001b[1;33m.\u001b[0m\u001b[0mfind_element_by_xpath\u001b[0m\u001b[1;33m(\u001b[0m\u001b[1;34m\"/html/body/div[4]/div[2]/div[1]/form/div[1]/div/div/dl[8]/dd/ul/li[\"\u001b[0m \u001b[1;33m+\u001b[0m \u001b[0mstr\u001b[0m\u001b[1;33m(\u001b[0m\u001b[0mi\u001b[0m\u001b[1;33m)\u001b[0m \u001b[1;33m+\u001b[0m \u001b[1;34m\"]/input\"\u001b[0m\u001b[1;33m)\u001b[0m\u001b[1;33m.\u001b[0m\u001b[0mclick\u001b[0m\u001b[1;33m(\u001b[0m\u001b[1;34m\" + str(i) + \"\u001b[0m\u001b[1;33m)\u001b[0m\u001b[1;33m\u001b[0m\u001b[1;33m\u001b[0m\u001b[0m\n\u001b[0m",
      "\u001b[1;31mTypeError\u001b[0m: click() takes 1 positional argument but 2 were given"
     ]
    }
   ],
   "source": [
    "#神奈川のホール一覧に飛ぶリンクをクリック\n",
    "#element = driver.find_element_by_xpath(\"/html/body/div[4]/div[2]/div[1]/div[3]/div/div/div[2]/dl[2]/dd\")\n",
    "element = driver.find_element_by_id(\"map-search\")\n",
    "actions = ActionChains(driver)\n",
    "actions.move_to_element(element)\n",
    "actions.perform()\n",
    "driver.find_element_by_xpath(\"/html/body/div[4]/div[2]/div[1]/div[3]/div/div/div[2]/dl[2]/dd/a[2]\").click()\n",
    "\n",
    "#希望地域の選択\n",
    "#か行のホール\n",
    "area_number = [1, 2, 3, 4, 5]\n",
    "for i in area_number:\n",
    "    driver.find_element_by_xpath(\"/html/body/div[4]/div[2]/div[1]/form/div[1]/div/div/dl[2]/dd/ul/li[\" + str(i) + \"]/input\").click()\n",
    "\n",
    "#や行のホール\n",
    "area_number = [1, 2, 7]\n",
    "for i in area_number:\n",
    "    driver.find_element_by_xpath(\"/html/body/div[4]/div[2]/div[1]/form/div[1]/div/div/dl[8]/dd/ul/li[\" + str(i) + \"]/input\").click()"
   ]
  },
  {
   "cell_type": "code",
   "execution_count": null,
   "metadata": {},
   "outputs": [],
   "source": []
  },
  {
   "cell_type": "code",
   "execution_count": null,
   "metadata": {},
   "outputs": [],
   "source": []
  }
 ],
 "metadata": {
  "kernelspec": {
   "display_name": "Python 3",
   "language": "python",
   "name": "python3"
  },
  "language_info": {
   "codemirror_mode": {
    "name": "ipython",
    "version": 3
   },
   "file_extension": ".py",
   "mimetype": "text/x-python",
   "name": "python",
   "nbconvert_exporter": "python",
   "pygments_lexer": "ipython3",
   "version": "3.7.6"
  }
 },
 "nbformat": 4,
 "nbformat_minor": 4
}
