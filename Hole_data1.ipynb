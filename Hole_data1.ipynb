{
 "cells": [
  {
   "cell_type": "code",
   "execution_count": 1,
   "metadata": {},
   "outputs": [],
   "source": [
    "from selenium import webdriver\n",
    "from selenium.webdriver.chrome.options import Options\n",
    "from selenium.webdriver.common.action_chains import ActionChains\n",
    "from selenium.webdriver.support.ui import Select\n",
    "from xlwt import Workbook\n",
    "import time\n",
    "import urllib.request\n",
    "\n",
    "URL = \"http://fe.site777.tv/data/biglobe/login.php\"\n",
    "\n",
    "#URLのページを開く\n",
    "options = Options()\n",
    "options.add_argument('--headless')\n",
    "driver = webdriver.Chrome('.\\chromedriver.exe')\n",
    "driver.get(URL)\n"
   ]
  },
  {
   "cell_type": "code",
   "execution_count": 2,
   "metadata": {},
   "outputs": [],
   "source": [
    "#Windowのサイズを最大化する\n",
    "driver.maximize_window()\n",
    "\n",
    "#BIGLOBEのログイン\n",
    "driver.find_element_by_id(\"BiglobeId\").send_keys(\"siteseven.data@gmail.com\")\n",
    "driver.find_element_by_id(\"BiglobePwd\").send_keys(\"Crawler777\")\n",
    "#なぜか要素をクリックできなかったので要素の場所を指定してクリックした\n",
    "element = driver.find_element_by_xpath(\"/html/body/div[1]/form/div/div/div[1]/input\")\n",
    "loc = element.location\n",
    "x, y = loc['x'], loc['y']\n",
    "actions = ActionChains(driver)\n",
    "actions.move_by_offset(x, y)\n",
    "actions.click()\n",
    "actions.perform()\n",
    "\n",
    "time.sleep(5)"
   ]
  },
  {
   "cell_type": "code",
   "execution_count": 24,
   "metadata": {},
   "outputs": [],
   "source": [
    "#マイページにログインするwindowに移動する\n",
    "driver.find_element_by_xpath(\"/html/body/div[4]/div[1]/p\").click()\n",
    "#ログインIDとPwdの入力\n",
    "driver.find_element_by_id(\"mypage_email\").send_keys(\"siteseven.data@gmail.com\")\n",
    "driver.find_element_by_id(\"mypage_pass\").send_keys(\"Crawler777\")\n",
    "\n",
    "driver.find_element_by_xpath(\"/html/body/div[4]/div[2]/div/div/div/form/div/div[1]/p\").click()\n"
   ]
  },
  {
   "cell_type": "code",
   "execution_count": 3,
   "metadata": {},
   "outputs": [],
   "source": [
    "#神奈川のホール一覧に飛ぶリンクをクリック\n",
    "#element = driver.find_element_by_xpath(\"/html/body/div[4]/div[2]/div[1]/div[3]/div/div/div[2]/dl[2]/dd\")\n",
    "element = driver.find_element_by_id(\"map-search\")\n",
    "actions = ActionChains(driver)\n",
    "actions.move_to_element(element)\n",
    "actions.perform()\n",
    "driver.find_element_by_xpath(\"/html/body/div[4]/div[2]/div[1]/div[3]/div/div/div[2]/dl[2]/dd/a[2]\").click()\n",
    "\n",
    "#希望地域の選択\n",
    "#か行のホール\n",
    "area_number = [1, 2, 3, 4, 5]\n",
    "for i in area_number:\n",
    "    driver.find_element_by_xpath(\"/html/body/div[4]/div[2]/div[1]/form/div[1]/div/div/dl[2]/dd/ul/li[\" + str(i) + \"]/input\").click()\n",
    "\n",
    "#や行のホール\n",
    "area_number = [1, 2, 7]\n",
    "for i in area_number:\n",
    "    driver.find_element_by_xpath(\"/html/body/div[4]/div[2]/div[1]/form/div[1]/div/div/dl[8]/dd/ul/li[\" + str(i) + \"]/input\").click()\n",
    "\n",
    "#検索ボタンのクリック\n",
    "element = driver.find_element_by_xpath(\"/html/body/div[4]/div[2]/div[1]/form/div[1]/div/div/div[2]/p/a\")\n",
    "actions = ActionChains(driver)\n",
    "actions.move_to_element(element)\n",
    "actions.perform()\n",
    "driver.find_element_by_xpath(\"/html/body/div[4]/div[2]/div[1]/form/div[1]/div/div/div[2]/p/a\").click()"
   ]
  },
  {
   "cell_type": "code",
   "execution_count": 4,
   "metadata": {},
   "outputs": [],
   "source": [
    "#ホールの選択\n",
    "element = driver.find_element_by_xpath(\"/html/body/div[4]/div[2]/div[1]/div/form/div[1]/div/div/p[1]/a\")\n",
    "actions = ActionChains(driver)\n",
    "actions.move_to_element(element)\n",
    "actions.perform()\n",
    "driver.find_element_by_xpath(\"/html/body/div[4]/div[2]/div[1]/div/form/div[1]/div/div/p[1]/a\").click()"
   ]
  },
  {
   "cell_type": "code",
   "execution_count": 5,
   "metadata": {},
   "outputs": [],
   "source": [
    "#スロットの機種の選択\n",
    "element = driver.find_element_by_xpath(\"/html/body/form[5]/div/div/center/table/tbody/tr[2]/td/ul/li[1]/input\")\n",
    "actions = ActionChains(driver)\n",
    "actions.move_to_element(element)\n",
    "actions.perform()\n",
    "driver.find_element_by_xpath(\"/html/body/form[5]/div/div/center/table/tbody/tr[2]/td/ul/li[1]/input\").click()"
   ]
  },
  {
   "cell_type": "code",
   "execution_count": 8,
   "metadata": {},
   "outputs": [
    {
     "name": "stdout",
     "output_type": "stream",
     "text": [
      "機種名　ＧＯＧＯジャグラー\n",
      "台番号　501\n",
      "総回転数　4569\n",
      "BB回数　21\n",
      "RB回数　10\n"
     ]
    },
    {
     "data": {
      "text/plain": [
       "('slanp_graph.png', <http.client.HTTPMessage at 0x1f3a59402c8>)"
      ]
     },
     "execution_count": 8,
     "metadata": {},
     "output_type": "execute_result"
    }
   ],
   "source": [
    "#データの収集\n",
    "#機種名の取得\n",
    "element = driver.find_element_by_xpath(\"/html/body/div[5]/h2/a\")\n",
    "print(\"機種名　\" + str(element.text))\n",
    "\n",
    "#台番号\n",
    "element = driver.find_element_by_xpath(\"/html/body/div[5]/div[1]/div[2]/table/tbody/tr[2]/td[1]/span[1]\")\n",
    "actions = ActionChains(driver)\n",
    "actions.move_to_element(element)\n",
    "actions.perform()\n",
    "print(\"台番号　\" + str(element.text))\n",
    "\n",
    "element = driver.find_element_by_xpath(\"/html/body/div[5]/div[1]/div[2]/table/tbody/tr[2]/td[2]\")\n",
    "print(\"総回転数　\" + str(element.text))\n",
    "\n",
    "element = driver.find_element_by_xpath(\"/html/body/div[5]/div[1]/div[2]/table/tbody/tr[2]/td[3]\")\n",
    "print(\"BB回数　\" + str(element.text))\n",
    "\n",
    "element = driver.find_element_by_xpath(\"/html/body/div[5]/div[1]/div[2]/table/tbody/tr[2]/td[4]\")\n",
    "print(\"RB回数　\" + str(element.text))\n",
    "\n",
    "#グラフのページへ移動\n",
    "driver.find_element_by_xpath(\"/html/body/div[5]/div[1]/div[1]/div[1]/p/a\").click()\n",
    "\n",
    "url = driver.find_element_by_xpath(\"/html/body/div[5]/div[2]/dl[1]/dd/a/img\").get_attribute(\"src\")\n",
    "urllib.request.urlretrieve(url, 'slanp_graph.png')\n"
   ]
  },
  {
   "cell_type": "code",
   "execution_count": null,
   "metadata": {},
   "outputs": [],
   "source": []
  },
  {
   "cell_type": "code",
   "execution_count": null,
   "metadata": {},
   "outputs": [],
   "source": []
  },
  {
   "cell_type": "raw",
   "metadata": {},
   "source": [
    "/html/body/div[4]/div[2]/div[1]/div/form/div[1]/div/div/p[1]/a\n",
    "/html/body/div[4]/div[2]/div[1]/div/form/div[2]/div/div/p[1]/a\n",
    "\n",
    "/html/body/form[5]/div/div/center/table/tbody/tr[2]/td/ul/li[1]/input\n",
    "/html/body/form[5]/div/div/center/table/tbody/tr[2]/td/ul/li[1]/input"
   ]
  },
  {
   "cell_type": "code",
   "execution_count": 7,
   "metadata": {},
   "outputs": [],
   "source": [
    "#20スロが表示されている場所に移動\n",
    "driver.find_element_by_class_name(\"slot\").click()\n",
    "\n",
    "#各機種のデータページへの移行\n",
    "#tr[x]を変えると機種が変わる\n",
    "/html/body/form[5]/div/div/center/table/tbody/tr[2]/td/ul/li[1]/input\n"
   ]
  },
  {
   "cell_type": "code",
   "execution_count": 20,
   "metadata": {},
   "outputs": [
    {
     "name": "stdout",
     "output_type": "stream",
     "text": [
      "0\n",
      "【20】スロ\n",
      "1\n",
      "【5】スロ\n",
      "2\n",
      "【20】スロ\n",
      "3\n",
      "【5】スロ\n",
      "4\n",
      "【20】スロ\n",
      "ＧＯＧＯジャグラー（13）\n",
      "アイムジャグラーＥＸ－ＡＥ（6）\n",
      "マイジャグラーＩＩＩ（6）\n",
      "パチスロ北斗の拳　天昇（3）\n",
      "Ｒｅ：ゼロから始める異世界生活（3）\n",
      "押忍！番長３（3）\n",
      "ＳＬＯＴ魔法少女まどか☆マギカ２（3）\n",
      "パチスロ　蒼穹のファフナーＥＸＯＤＵＳ（2）\n",
      "パチスロ　ディスクアップ（2）\n",
      "ハナビ（2）\n",
      "戦国コレクション２（2）\n",
      "パチスロ交響詩篇エウレカセブン３\n",
      "闘魂継承アントニオ猪木という名のパチスロ機\n",
      "パチスロ　ラブ嬢２\n",
      "ルパン三世不二子Ｔｙｐｅ－Ａ＋\n",
      "ミリオンゴッド～神々の凱旋～\n",
      "【5】スロ\n",
      "スーパーミラクルジャグラー（2）\n",
      "押忍！番長３（2）\n",
      "クレアの秘宝伝～眠りの塔と目覚めの石～（2）\n",
      "パチスロ　ラブ嬢２\n",
      "ガールズ＆パンツァーG\n",
      "パチスロ黄門ちゃまＶ女神盛－ＭＥＧＡＭＯＲＩ－\n",
      "Ｒｅ：ゼロから始める異世界生活\n",
      "パチスロ　エヴァンゲリヲン　ＡＴ７７７\n",
      "ＨＥＹ！鏡\n",
      "十字架４\n",
      "パチスロ　ディスクアップ\n",
      "ニューパルサーＳＰII\n",
      "パチスロエウレカセブンＡＯ\n",
      "ＳＬＯＴ魔法少女まどか☆マギカ２\n",
      "Ａ－ＳＬＯＴ偽物語\n",
      "パチスロ　コードギアスＲ２反逆のルルーシュ\n",
      "マジカルハロウィン５\n",
      "エヴァンゲリヲン　魂を繋ぐもの\n",
      "パチスロ　ゴッドイーター\n",
      "戦国コレクション２\n",
      "アラジンＡＩＩ\n",
      "5\n",
      "【20】スロ\n",
      "6\n",
      "【5】スロ\n",
      "7\n"
     ]
    },
    {
     "ename": "NameError",
     "evalue": "name 'NoSuchElementException' is not defined",
     "output_type": "error",
     "traceback": [
      "\u001b[1;31m---------------------------------------------------------------------------\u001b[0m",
      "\u001b[1;31mIndexError\u001b[0m                                Traceback (most recent call last)",
      "\u001b[1;32m<ipython-input-20-2e5102e09d63>\u001b[0m in \u001b[0;36m<module>\u001b[1;34m\u001b[0m\n\u001b[0;32m      5\u001b[0m         \u001b[0mprint\u001b[0m\u001b[1;33m(\u001b[0m\u001b[0mi\u001b[0m\u001b[1;33m)\u001b[0m\u001b[1;33m\u001b[0m\u001b[1;33m\u001b[0m\u001b[0m\n\u001b[1;32m----> 6\u001b[1;33m         \u001b[0melement\u001b[0m \u001b[1;33m=\u001b[0m \u001b[0mdriver\u001b[0m\u001b[1;33m.\u001b[0m\u001b[0mfind_elements_by_class_name\u001b[0m\u001b[1;33m(\u001b[0m\u001b[1;34m\"slot\"\u001b[0m\u001b[1;33m)\u001b[0m\u001b[1;33m[\u001b[0m\u001b[0mi\u001b[0m\u001b[1;33m]\u001b[0m\u001b[1;33m\u001b[0m\u001b[1;33m\u001b[0m\u001b[0m\n\u001b[0m\u001b[0;32m      7\u001b[0m         \u001b[0mSlot_num\u001b[0m \u001b[1;33m=\u001b[0m \u001b[0mi\u001b[0m\u001b[1;33m\u001b[0m\u001b[1;33m\u001b[0m\u001b[0m\n",
      "\u001b[1;31mIndexError\u001b[0m: list index out of range",
      "\nDuring handling of the above exception, another exception occurred:\n",
      "\u001b[1;31mNameError\u001b[0m                                 Traceback (most recent call last)",
      "\u001b[1;32m<ipython-input-20-2e5102e09d63>\u001b[0m in \u001b[0;36m<module>\u001b[1;34m\u001b[0m\n\u001b[0;32m      7\u001b[0m         \u001b[0mSlot_num\u001b[0m \u001b[1;33m=\u001b[0m \u001b[0mi\u001b[0m\u001b[1;33m\u001b[0m\u001b[1;33m\u001b[0m\u001b[0m\n\u001b[0;32m      8\u001b[0m         \u001b[0mprint\u001b[0m\u001b[1;33m(\u001b[0m\u001b[0melement\u001b[0m\u001b[1;33m.\u001b[0m\u001b[0mtext\u001b[0m\u001b[1;33m)\u001b[0m\u001b[1;33m\u001b[0m\u001b[1;33m\u001b[0m\u001b[0m\n\u001b[1;32m----> 9\u001b[1;33m \u001b[1;32mexcept\u001b[0m \u001b[0mNoSuchElementException\u001b[0m \u001b[1;32mas\u001b[0m \u001b[0me\u001b[0m\u001b[1;33m:\u001b[0m\u001b[1;33m\u001b[0m\u001b[1;33m\u001b[0m\u001b[0m\n\u001b[0m\u001b[0;32m     10\u001b[0m     \u001b[0mprint\u001b[0m\u001b[1;33m(\u001b[0m\u001b[0me\u001b[0m\u001b[1;33m)\u001b[0m\u001b[1;33m\u001b[0m\u001b[1;33m\u001b[0m\u001b[0m\n\u001b[0;32m     11\u001b[0m \u001b[1;32mexcept\u001b[0m \u001b[1;33m:\u001b[0m\u001b[1;33m\u001b[0m\u001b[1;33m\u001b[0m\u001b[0m\n",
      "\u001b[1;31mNameError\u001b[0m: name 'NoSuchElementException' is not defined"
     ]
    }
   ],
   "source": [
    "#20slotの特定\n",
    "slot_num = 0\n",
    "try:\n",
    "    for i in range(0, 10 ,1):\n",
    "        print(i)\n",
    "        element = driver.find_elements_by_class_name(\"slot\")[i]\n",
    "        Slot_num = i\n",
    "        print(element.text)\n",
    "except NoSuchElementException as e:\n",
    "    print(e)\n",
    "except :\n",
    "    print(\"error\")\n",
    "\n",
    "print(slot_num)"
   ]
  },
  {
   "cell_type": "code",
   "execution_count": 25,
   "metadata": {},
   "outputs": [
    {
     "name": "stdout",
     "output_type": "stream",
     "text": [
      "7\n",
      "10\n"
     ]
    }
   ],
   "source": [
    "element = driver.find_elements_by_class_name(\"slot\")\n",
    "print(len(element))\n",
    "\n",
    "element = driver.find_elements_by_class_name(\"pachi\")\n",
    "print(len(element))"
   ]
  },
  {
   "cell_type": "code",
   "execution_count": null,
   "metadata": {},
   "outputs": [],
   "source": []
  }
 ],
 "metadata": {
  "kernelspec": {
   "display_name": "Python 3",
   "language": "python",
   "name": "python3"
  },
  "language_info": {
   "codemirror_mode": {
    "name": "ipython",
    "version": 3
   },
   "file_extension": ".py",
   "mimetype": "text/x-python",
   "name": "python",
   "nbconvert_exporter": "python",
   "pygments_lexer": "ipython3",
   "version": "3.7.6"
  }
 },
 "nbformat": 4,
 "nbformat_minor": 4
}
